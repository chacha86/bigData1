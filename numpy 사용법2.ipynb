{
  "nbformat": 4,
  "nbformat_minor": 0,
  "metadata": {
    "colab": {
      "name": "Untitled30.ipynb",
      "provenance": [],
      "collapsed_sections": [],
      "authorship_tag": "ABX9TyNOlqr6qcgdcsJxHMJYFhdj",
      "include_colab_link": true
    },
    "kernelspec": {
      "name": "python3",
      "display_name": "Python 3"
    },
    "language_info": {
      "name": "python"
    }
  },
  "cells": [
    {
      "cell_type": "markdown",
      "metadata": {
        "id": "view-in-github",
        "colab_type": "text"
      },
      "source": [
        "<a href=\"https://colab.research.google.com/github/chacha86/bigData1/blob/main/numpy%20%EC%82%AC%EC%9A%A9%EB%B2%952.ipynb\" target=\"_parent\"><img src=\"https://colab.research.google.com/assets/colab-badge.svg\" alt=\"Open In Colab\"/></a>"
      ]
    },
    {
      "cell_type": "code",
      "execution_count": null,
      "metadata": {
        "id": "jq2QszLKsZFg"
      },
      "outputs": [],
      "source": [
        "# 배열의 연산\n",
        "import numpy as np\n",
        "\n",
        "np.random.seed(1)\n",
        "arr1 = np.random.randint(-10, 10, (3,4))\n",
        "\n",
        "# 기초 통계 연산\n",
        "arr1.mean()\n",
        "arr1.max()\n",
        "arr1.min()\n",
        "arr1.sum()\n",
        "\n",
        "np.random.seed(100)\n",
        "arr2 = np.random.randint(-10, 10, (3,4))\n",
        "\n",
        "print(arr1)\n",
        "print(arr2)\n",
        "\n",
        "# 두 배열의 연산 - 사칙 연산\n",
        "arr3 = arr1 + arr2\n",
        "arr4 = arr1 - arr2\n",
        "arr5 = arr1 * arr2\n",
        "arr6 = arr1 / arr2\n",
        "arr7 = arr1 % arr2\n",
        "\n",
        "\n",
        "# 배열의 값을 절대값으로\n",
        "arr2 = np.abs(arr2)\n",
        "\n",
        "print(arr2)\n",
        "\n",
        "# arr1원소의 값을  arr2 원소만큼 제곱\n",
        "arr9 = arr1 ** arr2\n",
        "\n",
        "\n",
        "# 배열의 원소의 제곱근\n",
        "arr10 = np.sqrt(arr2)\n",
        "\n",
        "print(arr1 * arr2)\n",
        "\n",
        "# 행렬의 점곱(dot product)\n",
        "# (2 X 3) . (3 X 4)\n",
        "# 3 4 3 4\n",
        "arr1.shape\n",
        "arr2.shape\n",
        "\n",
        "# 행렬의 모습을 바꾸고 싶다. - reshape(행렬의 모양)\n",
        "arr2 = arr2.reshape([4,3])\n",
        "np.dot(arr1, arr2)\n",
        "\n",
        "# 두 행렬의 비교\n",
        "arr1 == arr2\n",
        "print(arr2.size)\n",
        "\n",
        "# reshaep 배열의 모양을 바꿀 때 사용. 원소의 개수에 주의\n",
        "arr2 = arr2.reshape([3, -1])\n",
        "arr2.shape\n",
        "\n",
        "\n",
        "# 각 행렬의 원소 일치 여부\n",
        "arr1 == arr2\n",
        "\n",
        "# shape이 같은 두 행렬을 == 비교하면 각 원소의 일치 여부\n",
        "np.array_equal(arr1, arr2)\n",
        "\n"
      ]
    },
    {
      "cell_type": "code",
      "source": [
        "# 1차원 배열 -> 벡터\n",
        "arr3 = np.arange(1, 16)\n",
        "arr3.size\n",
        "arr3.ndim\n",
        "\n",
        "arr3 = arr3.reshape((3,-1))\n",
        "arr3 = arr3.reshape((5, 3, -1))\n"
      ],
      "metadata": {
        "id": "5kR44qSM0sU3"
      },
      "execution_count": null,
      "outputs": []
    },
    {
      "cell_type": "code",
      "source": [
        "arr1 = np.arange(1, 12)\n",
        "\n",
        "# 차원 확장 및 축소\n",
        "# 확장\n",
        "arr2 = np.expand_dims(arr1, axis=0)\n",
        "arr3 = np.expand_dims(arr1, axis=1)\n",
        "\n",
        "# 축소\n",
        "np.squeeze(arr2, axis=0)\n",
        "np.squeeze(arr3, axis=1)\n",
        "\n",
        "\n"
      ],
      "metadata": {
        "colab": {
          "base_uri": "https://localhost:8080/"
        },
        "id": "Y7GkFaSq1eEs",
        "outputId": "6ede697d-1146-43c0-ab06-8ba781caf124"
      },
      "execution_count": 66,
      "outputs": [
        {
          "output_type": "execute_result",
          "data": {
            "text/plain": [
              "array([ 1,  2,  3,  4,  5,  6,  7,  8,  9, 10, 11])"
            ]
          },
          "metadata": {},
          "execution_count": 66
        }
      ]
    },
    {
      "cell_type": "code",
      "source": [
        "# 정렬\n",
        "\n",
        "np.random.seed(1)\n",
        "arr = np.random.randint(1, 100, 12)\n",
        "\n",
        "#arr.sort() # 원본에 적용\n",
        "\n",
        "arr2 = np.sort(arr) # 원본에 적용 X\n",
        "\n",
        "arr\n",
        "arr2\n",
        "\n",
        "\n",
        "# arr\n",
        "# arr[::-1]\n",
        "[3,4]\n",
        "arr3 = arr.reshape()\n",
        "\n",
        "np.sort(arr3, axis=0)[::-1]\n",
        "np.sort(arr3, axis=1)\n",
        "\n",
        "# argsort()\n",
        "\n",
        "idx = arr.argsort()[::-1]\n",
        "arr[idx[:5]]\n",
        "\n"
      ],
      "metadata": {
        "colab": {
          "base_uri": "https://localhost:8080/"
        },
        "id": "PrNI0m7_6V8v",
        "outputId": "88d32d4b-da0d-4525-eac4-fcad4b1b985c"
      },
      "execution_count": 98,
      "outputs": [
        {
          "output_type": "execute_result",
          "data": {
            "text/plain": [
              "array([80, 77, 76, 73, 72])"
            ]
          },
          "metadata": {},
          "execution_count": 98
        }
      ]
    },
    {
      "cell_type": "code",
      "source": [
        "# 배열 붙이기, 나누기\n",
        "arr1 = np.arange(1,5)\n",
        "arr2 = np.arange(5,9)\n",
        "\n",
        "print(arr1)\n",
        "print(arr2)\n",
        "\n",
        "arr3 = np.expand_dims(arr1, axis=0)\n",
        "arr4 = np.expand_dims(arr2, axis=0)\n",
        "\n",
        "arr5 = arr1.reshape(2,2)\n",
        "arr6 = arr2.reshape(2,2)\n",
        "\n",
        "np.concatenate((arr5, arr6), axis=1)\n",
        "\n",
        "arr7 = np.arange(1, 13)\n",
        "\n",
        "arr8  =arr7.reshape(3,4)\n",
        "\n",
        "\n",
        "arr8\n",
        "print(arr8)\n",
        "\n",
        "print(np.split(arr8, 2, axis=1))\n",
        "print(np.split(arr8, 1, axis=0))\n",
        "\n",
        "\n",
        "\n"
      ],
      "metadata": {
        "colab": {
          "base_uri": "https://localhost:8080/"
        },
        "id": "Dcir885L98T6",
        "outputId": "ee46e0f2-fcec-4c9f-c768-95ce0c8ecd9c"
      },
      "execution_count": 146,
      "outputs": [
        {
          "output_type": "stream",
          "name": "stdout",
          "text": [
            "[1 2 3 4]\n",
            "[5 6 7 8]\n",
            "[[ 1  2  3  4]\n",
            " [ 5  6  7  8]\n",
            " [ 9 10 11 12]]\n",
            "[array([[ 1,  2],\n",
            "       [ 5,  6],\n",
            "       [ 9, 10]]), array([[ 3,  4],\n",
            "       [ 7,  8],\n",
            "       [11, 12]])]\n",
            "[array([[ 1,  2,  3,  4],\n",
            "       [ 5,  6,  7,  8],\n",
            "       [ 9, 10, 11, 12]])]\n"
          ]
        }
      ]
    },
    {
      "cell_type": "code",
      "source": [
        ""
      ],
      "metadata": {
        "id": "DOH2xbJ-6SDt"
      },
      "execution_count": null,
      "outputs": []
    }
  ]
}