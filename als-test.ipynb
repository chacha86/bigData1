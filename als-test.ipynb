{
 "cells": [
  {
   "cell_type": "code",
   "execution_count": 1,
   "id": "339fa7f0",
   "metadata": {},
   "outputs": [],
   "source": [
    "import pandas as pd\n",
    "import numpy as np\n",
    "\n",
    "pd.options.display.float_format = '{:.5f}'.format"
   ]
  },
  {
   "cell_type": "code",
   "execution_count": 2,
   "id": "5bec8fa6",
   "metadata": {},
   "outputs": [],
   "source": [
    "user_artist_data = pd.read_csv(\"profiledata_06-May-2005/user_artist_data.txt\", sep=\" \", names=['userid', 'artistid', 'playcount'])"
   ]
  },
  {
   "cell_type": "code",
   "execution_count": 6,
   "id": "b9476afd",
   "metadata": {},
   "outputs": [
    {
     "name": "stderr",
     "output_type": "stream",
     "text": [
      "/tmp/ipykernel_1424/1603388667.py:1: FutureWarning: The error_bad_lines argument has been deprecated and will be removed in a future version. Use on_bad_lines in the future.\n",
      "\n",
      "\n",
      "  artist_name = pd.read_csv(\"profiledata_06-May-2005/artist_data.txt\", sep=\"\\t\", names=['artistid', 'artistname'], error_bad_lines=False, warn_bad_lines=False)\n",
      "/tmp/ipykernel_1424/1603388667.py:1: FutureWarning: The warn_bad_lines argument has been deprecated and will be removed in a future version. Use on_bad_lines in the future.\n",
      "\n",
      "\n",
      "  artist_name = pd.read_csv(\"profiledata_06-May-2005/artist_data.txt\", sep=\"\\t\", names=['artistid', 'artistname'], error_bad_lines=False, warn_bad_lines=False)\n",
      "/tmp/ipykernel_1424/1603388667.py:1: DtypeWarning: Columns (0,1) have mixed types. Specify dtype option on import or set low_memory=False.\n",
      "  artist_name = pd.read_csv(\"profiledata_06-May-2005/artist_data.txt\", sep=\"\\t\", names=['artistid', 'artistname'], error_bad_lines=False, warn_bad_lines=False)\n"
     ]
    }
   ],
   "source": [
    "artist_name = pd.read_csv(\"profiledata_06-May-2005/artist_data.txt\", sep=\"\\t\", names=['artistid', 'artistname'], error_bad_lines=False, warn_bad_lines=False)"
   ]
  },
  {
   "cell_type": "code",
   "execution_count": 7,
   "id": "ec475545",
   "metadata": {},
   "outputs": [
    {
     "data": {
      "text/html": [
       "<div>\n",
       "<style scoped>\n",
       "    .dataframe tbody tr th:only-of-type {\n",
       "        vertical-align: middle;\n",
       "    }\n",
       "\n",
       "    .dataframe tbody tr th {\n",
       "        vertical-align: top;\n",
       "    }\n",
       "\n",
       "    .dataframe thead th {\n",
       "        text-align: right;\n",
       "    }\n",
       "</style>\n",
       "<table border=\"1\" class=\"dataframe\">\n",
       "  <thead>\n",
       "    <tr style=\"text-align: right;\">\n",
       "      <th></th>\n",
       "      <th>artistid</th>\n",
       "      <th>artistname</th>\n",
       "    </tr>\n",
       "  </thead>\n",
       "  <tbody>\n",
       "    <tr>\n",
       "      <th>0</th>\n",
       "      <td>1134999</td>\n",
       "      <td>06Crazy Life</td>\n",
       "    </tr>\n",
       "    <tr>\n",
       "      <th>1</th>\n",
       "      <td>6821360</td>\n",
       "      <td>Pang Nakarin</td>\n",
       "    </tr>\n",
       "    <tr>\n",
       "      <th>2</th>\n",
       "      <td>10113088</td>\n",
       "      <td>Terfel, Bartoli- Mozart: Don</td>\n",
       "    </tr>\n",
       "    <tr>\n",
       "      <th>3</th>\n",
       "      <td>10151459</td>\n",
       "      <td>The Flaming Sidebur</td>\n",
       "    </tr>\n",
       "    <tr>\n",
       "      <th>4</th>\n",
       "      <td>6826647</td>\n",
       "      <td>Bodenstandig 3000</td>\n",
       "    </tr>\n",
       "    <tr>\n",
       "      <th>...</th>\n",
       "      <td>...</td>\n",
       "      <td>...</td>\n",
       "    </tr>\n",
       "    <tr>\n",
       "      <th>2100515</th>\n",
       "      <td>10434912</td>\n",
       "      <td>Ray Charles f. Natalie Cole</td>\n",
       "    </tr>\n",
       "    <tr>\n",
       "      <th>2100516</th>\n",
       "      <td>10299430</td>\n",
       "      <td>Maarja ja Peeter Rebane</td>\n",
       "    </tr>\n",
       "    <tr>\n",
       "      <th>2100517</th>\n",
       "      <td>10299431</td>\n",
       "      <td>Weezer - Undone (The Sweater Song)</td>\n",
       "    </tr>\n",
       "    <tr>\n",
       "      <th>2100518</th>\n",
       "      <td>10299433</td>\n",
       "      <td>Div. Norske Artister</td>\n",
       "    </tr>\n",
       "    <tr>\n",
       "      <th>2100519</th>\n",
       "      <td>10299434</td>\n",
       "      <td>Jeanette Pacher;Hans Groisz;Pit Schultz;Salome...</td>\n",
       "    </tr>\n",
       "  </tbody>\n",
       "</table>\n",
       "<p>2100520 rows × 2 columns</p>\n",
       "</div>"
      ],
      "text/plain": [
       "         artistid                                         artistname\n",
       "0         1134999                                       06Crazy Life\n",
       "1         6821360                                       Pang Nakarin\n",
       "2        10113088                       Terfel, Bartoli- Mozart: Don\n",
       "3        10151459                                The Flaming Sidebur\n",
       "4         6826647                                  Bodenstandig 3000\n",
       "...           ...                                                ...\n",
       "2100515  10434912                        Ray Charles f. Natalie Cole\n",
       "2100516  10299430                            Maarja ja Peeter Rebane\n",
       "2100517  10299431                 Weezer - Undone (The Sweater Song)\n",
       "2100518  10299433                               Div. Norske Artister\n",
       "2100519  10299434  Jeanette Pacher;Hans Groisz;Pit Schultz;Salome...\n",
       "\n",
       "[2100520 rows x 2 columns]"
      ]
     },
     "execution_count": 7,
     "metadata": {},
     "output_type": "execute_result"
    }
   ],
   "source": [
    "artist_name"
   ]
  },
  {
   "cell_type": "code",
   "execution_count": 10,
   "id": "2210fea9",
   "metadata": {},
   "outputs": [],
   "source": [
    "import implicit\n",
    "\n",
    "model = implicit.als.AlternatingLeastSquares(factors=2, regularization=0.1, iterations=10)"
   ]
  },
  {
   "cell_type": "code",
   "execution_count": 11,
   "id": "e16cfbb5",
   "metadata": {},
   "outputs": [],
   "source": [
    "user_artist_data = user_artist_data[:100000]"
   ]
  },
  {
   "cell_type": "code",
   "execution_count": 12,
   "id": "e866aebb",
   "metadata": {},
   "outputs": [
    {
     "data": {
      "text/html": [
       "<div>\n",
       "<style scoped>\n",
       "    .dataframe tbody tr th:only-of-type {\n",
       "        vertical-align: middle;\n",
       "    }\n",
       "\n",
       "    .dataframe tbody tr th {\n",
       "        vertical-align: top;\n",
       "    }\n",
       "\n",
       "    .dataframe thead th {\n",
       "        text-align: right;\n",
       "    }\n",
       "</style>\n",
       "<table border=\"1\" class=\"dataframe\">\n",
       "  <thead>\n",
       "    <tr style=\"text-align: right;\">\n",
       "      <th></th>\n",
       "      <th>userid</th>\n",
       "      <th>artistid</th>\n",
       "      <th>playcount</th>\n",
       "    </tr>\n",
       "  </thead>\n",
       "  <tbody>\n",
       "    <tr>\n",
       "      <th>count</th>\n",
       "      <td>100000.00000</td>\n",
       "      <td>100000.00000</td>\n",
       "      <td>100000.00000</td>\n",
       "    </tr>\n",
       "    <tr>\n",
       "      <th>mean</th>\n",
       "      <td>1000279.30585</td>\n",
       "      <td>1153704.17701</td>\n",
       "      <td>12.71207</td>\n",
       "    </tr>\n",
       "    <tr>\n",
       "      <th>std</th>\n",
       "      <td>162.95012</td>\n",
       "      <td>1654081.52708</td>\n",
       "      <td>64.92093</td>\n",
       "    </tr>\n",
       "    <tr>\n",
       "      <th>min</th>\n",
       "      <td>1000002.00000</td>\n",
       "      <td>1.00000</td>\n",
       "      <td>1.00000</td>\n",
       "    </tr>\n",
       "    <tr>\n",
       "      <th>25%</th>\n",
       "      <td>1000145.00000</td>\n",
       "      <td>1000049.00000</td>\n",
       "      <td>1.00000</td>\n",
       "    </tr>\n",
       "    <tr>\n",
       "      <th>50%</th>\n",
       "      <td>1000260.00000</td>\n",
       "      <td>1007302.00000</td>\n",
       "      <td>2.00000</td>\n",
       "    </tr>\n",
       "    <tr>\n",
       "      <th>75%</th>\n",
       "      <td>1000405.00000</td>\n",
       "      <td>1055479.00000</td>\n",
       "      <td>7.00000</td>\n",
       "    </tr>\n",
       "    <tr>\n",
       "      <th>max</th>\n",
       "      <td>1000586.00000</td>\n",
       "      <td>10787933.00000</td>\n",
       "      <td>8561.00000</td>\n",
       "    </tr>\n",
       "  </tbody>\n",
       "</table>\n",
       "</div>"
      ],
      "text/plain": [
       "             userid       artistid    playcount\n",
       "count  100000.00000   100000.00000 100000.00000\n",
       "mean  1000279.30585  1153704.17701     12.71207\n",
       "std       162.95012  1654081.52708     64.92093\n",
       "min   1000002.00000        1.00000      1.00000\n",
       "25%   1000145.00000  1000049.00000      1.00000\n",
       "50%   1000260.00000  1007302.00000      2.00000\n",
       "75%   1000405.00000  1055479.00000      7.00000\n",
       "max   1000586.00000 10787933.00000   8561.00000"
      ]
     },
     "execution_count": 12,
     "metadata": {},
     "output_type": "execute_result"
    }
   ],
   "source": [
    "user_artist_data.describe()"
   ]
  },
  {
   "cell_type": "code",
   "execution_count": 23,
   "id": "4ea04a96",
   "metadata": {},
   "outputs": [
    {
     "data": {
      "text/html": [
       "<div>\n",
       "<style scoped>\n",
       "    .dataframe tbody tr th:only-of-type {\n",
       "        vertical-align: middle;\n",
       "    }\n",
       "\n",
       "    .dataframe tbody tr th {\n",
       "        vertical-align: top;\n",
       "    }\n",
       "\n",
       "    .dataframe thead th {\n",
       "        text-align: right;\n",
       "    }\n",
       "</style>\n",
       "<table border=\"1\" class=\"dataframe\">\n",
       "  <thead>\n",
       "    <tr style=\"text-align: right;\">\n",
       "      <th></th>\n",
       "      <th>userid</th>\n",
       "      <th>artistid</th>\n",
       "      <th>playcount</th>\n",
       "    </tr>\n",
       "  </thead>\n",
       "  <tbody>\n",
       "    <tr>\n",
       "      <th>0</th>\n",
       "      <td>1000002</td>\n",
       "      <td>1</td>\n",
       "      <td>55</td>\n",
       "    </tr>\n",
       "    <tr>\n",
       "      <th>1</th>\n",
       "      <td>1000002</td>\n",
       "      <td>1000006</td>\n",
       "      <td>33</td>\n",
       "    </tr>\n",
       "    <tr>\n",
       "      <th>2</th>\n",
       "      <td>1000002</td>\n",
       "      <td>1000007</td>\n",
       "      <td>8</td>\n",
       "    </tr>\n",
       "    <tr>\n",
       "      <th>3</th>\n",
       "      <td>1000002</td>\n",
       "      <td>1000009</td>\n",
       "      <td>144</td>\n",
       "    </tr>\n",
       "    <tr>\n",
       "      <th>4</th>\n",
       "      <td>1000002</td>\n",
       "      <td>1000010</td>\n",
       "      <td>314</td>\n",
       "    </tr>\n",
       "    <tr>\n",
       "      <th>...</th>\n",
       "      <td>...</td>\n",
       "      <td>...</td>\n",
       "      <td>...</td>\n",
       "    </tr>\n",
       "    <tr>\n",
       "      <th>99995</th>\n",
       "      <td>1000586</td>\n",
       "      <td>1001362</td>\n",
       "      <td>2</td>\n",
       "    </tr>\n",
       "    <tr>\n",
       "      <th>99996</th>\n",
       "      <td>1000586</td>\n",
       "      <td>1001365</td>\n",
       "      <td>1</td>\n",
       "    </tr>\n",
       "    <tr>\n",
       "      <th>99997</th>\n",
       "      <td>1000586</td>\n",
       "      <td>1001412</td>\n",
       "      <td>1</td>\n",
       "    </tr>\n",
       "    <tr>\n",
       "      <th>99998</th>\n",
       "      <td>1000586</td>\n",
       "      <td>1001424</td>\n",
       "      <td>4</td>\n",
       "    </tr>\n",
       "    <tr>\n",
       "      <th>99999</th>\n",
       "      <td>1000586</td>\n",
       "      <td>1001487</td>\n",
       "      <td>5</td>\n",
       "    </tr>\n",
       "  </tbody>\n",
       "</table>\n",
       "<p>100000 rows × 3 columns</p>\n",
       "</div>"
      ],
      "text/plain": [
       "        userid  artistid  playcount\n",
       "0      1000002         1         55\n",
       "1      1000002   1000006         33\n",
       "2      1000002   1000007          8\n",
       "3      1000002   1000009        144\n",
       "4      1000002   1000010        314\n",
       "...        ...       ...        ...\n",
       "99995  1000586   1001362          2\n",
       "99996  1000586   1001365          1\n",
       "99997  1000586   1001412          1\n",
       "99998  1000586   1001424          4\n",
       "99999  1000586   1001487          5\n",
       "\n",
       "[100000 rows x 3 columns]"
      ]
     },
     "execution_count": 23,
     "metadata": {},
     "output_type": "execute_result"
    }
   ],
   "source": [
    "user_artist_data"
   ]
  },
  {
   "cell_type": "code",
   "execution_count": 18,
   "id": "88e4d173",
   "metadata": {},
   "outputs": [
    {
     "data": {
      "text/plain": [
       "<1000587x10787934 sparse matrix of type '<class 'numpy.int64'>'\n",
       "\twith 100000 stored elements in Compressed Sparse Row format>"
      ]
     },
     "execution_count": 18,
     "metadata": {},
     "output_type": "execute_result"
    }
   ],
   "source": [
    "from scipy.sparse import csr_matrix\n",
    "\n",
    "my_ratings = csr_matrix((user_artist_data['playcount'], (user_artist_data['userid'], user_artist_data['artistid'])))\n",
    "my_ratings"
   ]
  },
  {
   "cell_type": "code",
   "execution_count": 30,
   "id": "e42d63a1",
   "metadata": {},
   "outputs": [],
   "source": [
    "from implicit.evaluation import train_test_split\n",
    "\n",
    "# (ratings, train_percentage=0.8, random_state=None)\n",
    "\n",
    "trd, tsd = train_test_split(my_ratings, train_percentage=0.8, random_state=None)"
   ]
  },
  {
   "cell_type": "code",
   "execution_count": 21,
   "id": "147dd6d7",
   "metadata": {},
   "outputs": [
    {
     "data": {
      "text/plain": [
       "(<1000587x10787934 sparse matrix of type '<class 'numpy.int64'>'\n",
       " \twith 80093 stored elements in Compressed Sparse Row format>,\n",
       " <1000587x10787934 sparse matrix of type '<class 'numpy.int64'>'\n",
       " \twith 19907 stored elements in Compressed Sparse Row format>)"
      ]
     },
     "execution_count": 21,
     "metadata": {},
     "output_type": "execute_result"
    }
   ],
   "source": [
    "trd, tsd"
   ]
  },
  {
   "cell_type": "code",
   "execution_count": 22,
   "id": "9579aecb",
   "metadata": {},
   "outputs": [
    {
     "name": "stderr",
     "output_type": "stream",
     "text": [
      "100%|███████████████████████████████████████████| 10/10 [00:00<00:00, 10.63it/s]\n"
     ]
    }
   ],
   "source": [
    "model.fit(trd)"
   ]
  },
  {
   "cell_type": "code",
   "execution_count": 24,
   "id": "3c01b0b8",
   "metadata": {},
   "outputs": [
    {
     "data": {
      "text/plain": [
       "<1x10787934 sparse matrix of type '<class 'numpy.int64'>'\n",
       "\twith 665 stored elements in Compressed Sparse Row format>"
      ]
     },
     "execution_count": 24,
     "metadata": {},
     "output_type": "execute_result"
    }
   ],
   "source": []
  },
  {
   "cell_type": "code",
   "execution_count": 27,
   "id": "3f8b2214",
   "metadata": {},
   "outputs": [
    {
     "data": {
      "text/plain": [
       "(array([    393,     930, 1000123], dtype=int32),\n",
       " array([1.2343774, 1.1764233, 1.1341997], dtype=float32))"
      ]
     },
     "execution_count": 27,
     "metadata": {},
     "output_type": "execute_result"
    }
   ],
   "source": [
    "\n",
    "userid = 1000002\n",
    "\n",
    "ids, scores = model.recommend(userid, trd[userid], N=3, filter_already_liked_items=False)\n",
    "\n",
    "ids, scores"
   ]
  },
  {
   "cell_type": "code",
   "execution_count": 31,
   "id": "398be236",
   "metadata": {},
   "outputs": [
    {
     "name": "stderr",
     "output_type": "stream",
     "text": [
      "100%|█████████████████████████████████████████| 386/386 [00:12<00:00, 29.84it/s]\n"
     ]
    },
    {
     "data": {
      "text/plain": [
       "0.03870147627271978"
      ]
     },
     "execution_count": 31,
     "metadata": {},
     "output_type": "execute_result"
    }
   ],
   "source": [
    "from implicit.evaluation import mean_average_precision_at_k\n",
    "\n",
    "mean_average_precision_at_k(model, trd, tsd, K=10, show_progress=True, num_threads=1)\n",
    "# (model, train_user_items, test_user_items, K=10, show_progress=True, num_threads=1)"
   ]
  }
 ],
 "metadata": {
  "kernelspec": {
   "display_name": "Python 3 (ipykernel)",
   "language": "python",
   "name": "python3"
  },
  "language_info": {
   "codemirror_mode": {
    "name": "ipython",
    "version": 3
   },
   "file_extension": ".py",
   "mimetype": "text/x-python",
   "name": "python",
   "nbconvert_exporter": "python",
   "pygments_lexer": "ipython3",
   "version": "3.10.6"
  }
 },
 "nbformat": 4,
 "nbformat_minor": 5
}
